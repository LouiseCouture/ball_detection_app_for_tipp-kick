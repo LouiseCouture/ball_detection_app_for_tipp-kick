{
 "cells": [
  {
   "cell_type": "code",
   "execution_count": 1,
   "metadata": {},
   "outputs": [
    {
     "name": "stderr",
     "output_type": "stream",
     "text": [
      "Using cache found in C:\\Users\\mr101/.cache\\torch\\hub\\ultralytics_yolov5_master\n",
      "YOLOv5  2023-4-20 Python-3.9.15 torch-1.13.0+cpu CPU\n",
      "\n"
     ]
    },
    {
     "name": "stdout",
     "output_type": "stream",
     "text": [
      "\u001b[31m\u001b[1mrequirements:\u001b[0m C:\\Users\\mr101\\.cache\\torch\\hub\\requirements.txt not found, check failed.\n"
     ]
    },
    {
     "name": "stderr",
     "output_type": "stream",
     "text": [
      "Fusing layers... \n",
      "Model summary: 157 layers, 7018216 parameters, 0 gradients\n",
      "Adding AutoShape... \n"
     ]
    }
   ],
   "source": [
    "import cv2\n",
    "import numpy as np\n",
    "import torch\n",
    "# import tensorflow as tf\n",
    "# from tensorflow import keras\n",
    "\n",
    "\n",
    "def detect_ball(model, frame: np.ndarray):\n",
    "    WIDTH = 360\n",
    "    HEIGHT = 360\n",
    "    resized_frame = cv2.resize(frame, (WIDTH, HEIGHT))\n",
    "    detection = model(resized_frame)\n",
    "    bounding_box = detection.xyxy[0].numpy()\n",
    "\n",
    "    for box in bounding_box:\n",
    "        if box[5] == 0:\n",
    "            x = box[0] + (box[2] - box[0]) / 2\n",
    "            y = box[1] + (box[3] - box[1]) / 2\n",
    "            return (int(x), int(y)), (box[0], box[1], box[2], box[3])\n",
    "            # array([     124.15,         179,      130.78,      185.98,      0.8651,           0], dtype=float32)\n",
    "            # box[0]:   Left\n",
    "            # box[1]:   Top\n",
    "            # box[2]:   Right\n",
    "            # box[3]:   Bottom\n",
    "            # box[4]:   Probability\n",
    "            # box[5]:   Klasse 0 = Ball\n",
    "\n",
    "    return False, False\n",
    "\n",
    "\n",
    "\n",
    "# Load model \n",
    "ball_model = torch.hub.load('ultralytics/yolov5', 'custom', path='models/ball_weights_V2.pt', force_reload=False)\n",
    "\n",
    "image=cv2.imread('imgs/20220927_100820.jpg')\n",
    "\n",
    "height, width, _ = image.shape\n",
    "\n",
    "# start object detection\n",
    "# ball detection returns center coordinates from the ball\n",
    "ball_center, ball_bb = detect_ball(ball_model, image)\n",
    "if ball_center:  # if ball was detected\n",
    "    # calculate ball coordinates from 360x360 to current size\n",
    "    ball_center = [ball_center[0] * (width / 360), ball_center[1] * (height / 360)] \n",
    "    ball_bb=[ball_bb[0]* (width / 360),\n",
    "             ball_bb[1]* (height / 360),\n",
    "             ball_bb[2]* (width / 360),\n",
    "             ball_bb[3]* (height / 360)]  \n",
    "\n",
    "    # # H-4 draw Ball Detection\n",
    "    cv2.drawMarker(image, (int(ball_center[0]), int(ball_center[1])), (0, 0, 255), cv2.MARKER_CROSS, 10, 2, 8)\n",
    "    cv2.rectangle(\n",
    "            image, \n",
    "            (int(ball_bb[0]), int(ball_bb[1])), # start_point\n",
    "            (int(ball_bb[2]), int(ball_bb[3])), # end_point\n",
    "            (0, 0, 255), # color\n",
    "            5 #thickness\n",
    "        )\n",
    "    cv2.putText(\n",
    "            image, \n",
    "            'Ball', \n",
    "            (int(ball_bb[0])-10, int(ball_bb[1])- 10), \n",
    "            cv2.FONT_HERSHEY_DUPLEX, \n",
    "            2, # text_seize\n",
    "            (0, 0, 255), # color\n",
    "            2, # text_thickness \n",
    "            cv2.LINE_AA\n",
    "        )\n",
    "\n",
    "    cv2.namedWindow('TippKick', cv2.WINDOW_NORMAL)      \n",
    "    cv2.imshow('TippKick', image)\n",
    "\n",
    "    cv2.waitKey(0)\n",
    "    cv2.destroyAllWindows()\n",
    "    "
   ]
  }
 ],
 "metadata": {
  "kernelspec": {
   "display_name": "Python 3 (ipykernel)",
   "language": "python",
   "name": "python3"
  },
  "language_info": {
   "codemirror_mode": {
    "name": "ipython",
    "version": 3
   },
   "file_extension": ".py",
   "mimetype": "text/x-python",
   "name": "python",
   "nbconvert_exporter": "python",
   "pygments_lexer": "ipython3",
   "version": "3.11.3"
  }
 },
 "nbformat": 4,
 "nbformat_minor": 2
}
