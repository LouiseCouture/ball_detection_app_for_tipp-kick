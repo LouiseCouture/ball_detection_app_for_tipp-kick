{
 "cells": [
  {
   "attachments": {},
   "cell_type": "markdown",
   "metadata": {},
   "source": [
    "Tracking Objects in Video with Particle Filters\n",
    "==============================================="
   ]
  },
  {
   "attachments": {},
   "cell_type": "markdown",
   "metadata": {},
   "source": [
    "Import libraries"
   ]
  },
  {
   "cell_type": "code",
   "execution_count": 1,
   "metadata": {},
   "outputs": [
    {
     "name": "stderr",
     "output_type": "stream",
     "text": [
      "c:\\Users\\lc100\\AppData\\Local\\miniconda3\\envs\\frameSubtraction\\Lib\\site-packages\\numpy\\_distributor_init.py:30: UserWarning: loaded more than 1 DLL from .libs:\n",
      "c:\\Users\\lc100\\AppData\\Local\\miniconda3\\envs\\frameSubtraction\\Lib\\site-packages\\numpy\\.libs\\libopenblas.FB5AE2TYXYH2IJRDKGDGQ3XBKLKTF43H.gfortran-win_amd64.dll\n",
      "c:\\Users\\lc100\\AppData\\Local\\miniconda3\\envs\\frameSubtraction\\Lib\\site-packages\\numpy\\.libs\\libopenblas64__v0.3.21-gcc_10_3_0.dll\n",
      "  warnings.warn(\"loaded more than 1 DLL from .libs:\"\n"
     ]
    },
    {
     "name": "stdout",
     "output_type": "stream",
     "text": [
      "\n",
      "very blurry\n",
      "(32, 32, 3)\n",
      "(64, 64, 3)\n",
      "28\n",
      "28\n",
      "29\n",
      "28\n",
      "---------------------------------------------------------------------------------------------\n",
      "[[[28 60 69]\n",
      "  [29 60 69]]\n",
      "\n",
      " [[28 60 69]\n",
      "  [28 63 69]]] \n",
      "------\n",
      " [[[30 62 71]\n",
      "  [30 62 71]]\n",
      "\n",
      " [[30 74 59]\n",
      "  [30 62 71]]]\n",
      "\n",
      "------\n",
      " 14.0\n",
      "---------------------------------------------------------------------------------------------\n",
      "\n",
      "blurry\n",
      "(32, 32, 3)\n",
      "(32, 32, 3)\n",
      "28\n",
      "28\n",
      "29\n",
      "28\n",
      "---------------------------------------------------------------------------------------------\n",
      "[[[28 60 69]\n",
      "  [29 60 69]]\n",
      "\n",
      " [[28 60 69]\n",
      "  [28 63 69]]] \n",
      "------\n",
      " [[[30 54 84]\n",
      "  [30 53 85]]\n",
      "\n",
      " [[30 54 84]\n",
      "  [30 53 85]]]\n",
      "\n",
      "------\n",
      " 32.666666666666664\n",
      "---------------------------------------------------------------------------------------------\n",
      "\n",
      "hand\n",
      "(32, 32, 3)\n",
      "(32, 32, 3)\n",
      "28\n",
      "28\n",
      "29\n",
      "28\n",
      "---------------------------------------------------------------------------------------------\n",
      "[[[28 60 69]\n",
      "  [29 60 69]]\n",
      "\n",
      " [[28 60 69]\n",
      "  [28 63 69]]] \n",
      "------\n",
      " [[[  0   0 127]\n",
      "  [  0   0 126]]\n",
      "\n",
      " [[ 14   5 127]\n",
      "  [ 14   5 127]]]\n",
      "\n",
      "------\n",
      " 183.0\n",
      "---------------------------------------------------------------------------------------------\n",
      "\n",
      "cloth\n",
      "(32, 32, 3)\n",
      "(16, 16, 3)\n",
      "28\n",
      "28\n",
      "29\n",
      "28\n",
      "---------------------------------------------------------------------------------------------\n",
      "[[[28 60 69]\n",
      "  [29 60 69]]\n",
      "\n",
      " [[28 60 69]\n",
      "  [28 63 69]]] \n",
      "------\n",
      " [[[28 62 69]\n",
      "  [29 62 70]]\n",
      "\n",
      " [[28 62 69]\n",
      "  [29 62 70]]]\n",
      "\n",
      "------\n",
      " 3.3333333333333335\n",
      "---------------------------------------------------------------------------------------------\n"
     ]
    }
   ],
   "source": [
    "import numpy as np\n",
    "import cv2\n",
    "\n",
    "from ipynb.fs.full.fonctions import display\n",
    "# Repeatability\n",
    "np.random.seed(0)\n",
    "\n",
    "VFILENAME = \"video_record/1310.mp4\"\n",
    "HEIGHT = 406\n",
    "WIDTH = 722"
   ]
  },
  {
   "attachments": {},
   "cell_type": "markdown",
   "metadata": {},
   "source": [
    "Load video frames from file"
   ]
  },
  {
   "cell_type": "code",
   "execution_count": 2,
   "metadata": {},
   "outputs": [],
   "source": [
    "def get_frames(filename):\n",
    "    video=cv2.VideoCapture(filename)\n",
    "    #print(np.shape(video))\n",
    "    while video.isOpened():\n",
    "        ret,frame=video.read()\n",
    "        if ret:\n",
    "            yield frame\n",
    "        else:\n",
    "            break\n",
    "    video.release()\n",
    "    yield None"
   ]
  },
  {
   "attachments": {},
   "cell_type": "markdown",
   "metadata": {},
   "source": [
    "Creating a particle cloud"
   ]
  },
  {
   "cell_type": "code",
   "execution_count": 3,
   "metadata": {},
   "outputs": [],
   "source": [
    "NUM_PARTICLES=200\n",
    "VEL_RANGE=0.5\n",
    "\n",
    "def initialize_particles(N=NUM_PARTICLES,velocity=VEL_RANGE,width=WIDTH,height=HEIGHT):\n",
    "    particles=np.random.rand(N,4)\n",
    "    particles=particles*np.array((height,width,velocity,velocity))\n",
    "    particles[:,2:4] -= velocity/2.0\n",
    "    #print(particles[:20,:])\n",
    "    return particles"
   ]
  },
  {
   "attachments": {},
   "cell_type": "markdown",
   "metadata": {},
   "source": [
    "Moving particles according to their velocity state"
   ]
  },
  {
   "cell_type": "code",
   "execution_count": 4,
   "metadata": {},
   "outputs": [],
   "source": [
    "def apply_velocity(particles):\n",
    "    particles[:,0] += particles[:,2]\n",
    "    particles[:,1] += particles[:,3]\n",
    "    return particles"
   ]
  },
  {
   "attachments": {},
   "cell_type": "markdown",
   "metadata": {},
   "source": [
    "Prevent particles from falling off the edge of the video frame"
   ]
  },
  {
   "cell_type": "code",
   "execution_count": 5,
   "metadata": {},
   "outputs": [],
   "source": [
    "def enforce_edges(particles,N=NUM_PARTICLES,width=WIDTH,height=HEIGHT):\n",
    "    for i in range(N):\n",
    "        \n",
    "        #print(\"     before: \",particles[i,0],particles[i,1],particles[i,2],particles[i,3])\n",
    "        vitesse=40\n",
    "        \n",
    "        if particles[i,0]>height-1:\n",
    "            particles[i,0]=height-1-vitesse\n",
    "            particles[i,2]=-vitesse\n",
    "        if particles[i,1]> width-1:\n",
    "            particles[i,1]=width-1-vitesse\n",
    "            particles[i,3]=-vitesse\n",
    "            \n",
    "        if particles[i,0]< 0:\n",
    "            particles[i,0]=vitesse\n",
    "            particles[i,2]=vitesse\n",
    "        if particles[i,1]< 0:\n",
    "            particles[i,1]=vitesse\n",
    "            particles[i,3]=vitesse\n",
    "            \n",
    "        #print(\"     after: \",particles[i,0],particles[i,1])\n",
    "            \n",
    "    return particles"
   ]
  },
  {
   "attachments": {},
   "cell_type": "markdown",
   "metadata": {},
   "source": [
    "Measure each particle's quality"
   ]
  },
  {
   "cell_type": "code",
   "execution_count": 6,
   "metadata": {},
   "outputs": [],
   "source": [
    "TARGET_COLOUR = np.array((156,74,38))\n",
    "TARGET_COLOUR_WHITE = np.array((45,40,205))\n",
    "DIFF_COLOR=(150,100,100)\n",
    "\n",
    "def compute_errors(particles, frame,N=NUM_PARTICLES,colour=TARGET_COLOUR_WHITE, diff=DIFF_COLOR, coeffW=255*3):\n",
    "    color_lower=colour-diff\n",
    "    errors=np.zeros(N)\n",
    "    for i in range(N):\n",
    "        y=int(particles[i,0])\n",
    "        x=int(particles[i,1])\n",
    "        \n",
    "        #print(\"     pixel: \",x,y)\n",
    "        \n",
    "        pixel_colour=frame[y,x,:]\n",
    "        \n",
    "        GB=abs(pixel_colour[1]-pixel_colour[0])\n",
    "        GR=abs(pixel_colour[1]-pixel_colour[2])\n",
    "        \n",
    "        if all(color_lower<pixel_colour) and GB<coeffW and GR<coeffW:\n",
    "            errors[i]=np.sum((colour-pixel_colour)**2)\n",
    "            #print(color_lower,pixel_colour,errors[i])\n",
    "        else:\n",
    "            errors[i]=10000000\n",
    "            \n",
    "        #errors[i]=np.sum((colour-pixel_colour)**2)\n",
    "        \n",
    "    return errors"
   ]
  },
  {
   "attachments": {},
   "cell_type": "markdown",
   "metadata": {},
   "source": [
    "Assign weights to the particles based on their quality of match"
   ]
  },
  {
   "cell_type": "code",
   "execution_count": 7,
   "metadata": {},
   "outputs": [],
   "source": [
    "def compute_weights(errors,particles,width=WIDTH,height=HEIGHT):\n",
    "    weights=np.max(errors)-errors\n",
    "    weights[\n",
    "        (particles[:,0]==0) |\n",
    "        (particles[:,0] == height-1) |\n",
    "        (particles[:,1]==0) |\n",
    "        (particles[:,1] == width-1) \n",
    "    ]=0.0\n",
    "    weights=weights**4\n",
    "    return weights"
   ]
  },
  {
   "attachments": {},
   "cell_type": "markdown",
   "metadata": {},
   "source": [
    "Resample particles according to their weights"
   ]
  },
  {
   "cell_type": "code",
   "execution_count": 8,
   "metadata": {},
   "outputs": [],
   "source": [
    "def resample(particles, weights,N=NUM_PARTICLES):\n",
    "    weights+=1.e-100\n",
    "    somme=np.sum(weights)\n",
    "    \n",
    "    probabilities = weights/somme\n",
    "    index_numbers=np.random.choice(\n",
    "        N,\n",
    "        size=N,\n",
    "        p=probabilities\n",
    "    )\n",
    "    \n",
    "    particles=particles[index_numbers,:]\n",
    "    y=np.mean(particles[:,0])\n",
    "    x=np.mean(particles[:,1])\n",
    "    return particles, (int(x), int(y))"
   ]
  },
  {
   "attachments": {},
   "cell_type": "markdown",
   "metadata": {},
   "source": [
    "Fuzz the particles"
   ]
  },
  {
   "cell_type": "code",
   "execution_count": 9,
   "metadata": {},
   "outputs": [],
   "source": [
    "POS_SIGMA = 1.0\n",
    "VEL_SIGMA = 0.5\n",
    "def apply_noise(particles,N=NUM_PARTICLES,sigma=POS_SIGMA):\n",
    "    noise=np.concatenate(\n",
    "        (\n",
    "        np.random.normal(0.0, sigma, (N,1)),\n",
    "        np.random.normal(0.0, sigma, (N,1)),\n",
    "        np.random.normal(0.0, sigma, (N,1)),\n",
    "        np.random.normal(0.0, sigma, (N,1)),\n",
    "    ),\n",
    "    axis=1)\n",
    "    particles+=noise\n",
    "    return particles"
   ]
  },
  {
   "attachments": {},
   "cell_type": "markdown",
   "metadata": {},
   "source": [
    "Display the video frames"
   ]
  },
  {
   "cell_type": "code",
   "execution_count": 10,
   "metadata": {},
   "outputs": [],
   "source": [
    "def display_particle(frame, particles, location,N=NUM_PARTICLES):\n",
    "    if len(particles) > 0:\n",
    "        for i in range(N):\n",
    "            y=int(particles[i,0])\n",
    "            x=int(particles[i,1])\n",
    "            cv2.circle(frame,(x,y),1,(0,255,0),5)\n",
    "    if len(location) > 0:\n",
    "        cv2.circle(frame, (location[0],location[1]), 15,(0,0,255),5)\n",
    "    \n",
    "    display(frame,name='particle')\n",
    "    \n",
    "    if cv2.waitKey(30)==27:\n",
    "        if cv2.waitKey(0)==27:\n",
    "            return True\n",
    "            \n",
    "    return False"
   ]
  },
  {
   "attachments": {},
   "cell_type": "markdown",
   "metadata": {},
   "source": [
    "Main routine"
   ]
  },
  {
   "cell_type": "code",
   "execution_count": 11,
   "metadata": {},
   "outputs": [],
   "source": [
    "TARGET_COLOUR = np.array((156,74,38))\n",
    "TARGET_COLOUR_WHITE = np.array((200,200,200))\n",
    "POS_SIGMA = 1.0\n",
    "VEL_SIGMA = 0.5\n",
    "NUM_PARTICLES=200\n",
    "VEL_RANGE=500\n",
    "DIFF_COLOR=(150,100,100)\n",
    "\n",
    "WIDTH=1920\n",
    "HEIGHT=1080\n",
    "\n",
    "def particlesDetect(particles,frame,N=NUM_PARTICLES,width=WIDTH,height=HEIGHT,colour=TARGET_COLOUR_WHITE,sigma=POS_SIGMA,diff_color=DIFF_COLOR, coeffW_error=255*3):\n",
    "    \n",
    "    particles = apply_velocity(particles)\n",
    "    particles = enforce_edges(particles,N=N,width=width,height=height)\n",
    "    errors = compute_errors(particles, frame, N=N,colour=colour,diff=diff_color,coeffW=coeffW_error)\n",
    "    weights = compute_weights(errors,particles,width=width,height=height)\n",
    "    particles, location = resample(particles, weights,N=N)\n",
    "    particles = apply_noise(particles,N=N,sigma=sigma)\n",
    "    terminate = display_particle(frame, particles, location,N=N)\n",
    "    \n",
    "    return particles,terminate,location"
   ]
  },
  {
   "cell_type": "code",
   "execution_count": 12,
   "metadata": {},
   "outputs": [
    {
     "data": {
      "text/plain": [
       "'\\nW=1920\\nH=1080\\nprint(W,H)\\nN=10\\nPOS_SIGMA = 10.0\\nVEL=50.0\\nparticles = initialize_particles(N=N,width=W,height=H,velocity=VEL)\\n\\nTARGET_COLOUR_WHITE = np.array((200,200,200))\\nfor frame in get_frames(VFILENAME):\\n    #print(frame.shape)\\n    #print(frame[1080-1,1920-1,: ])\\n    if frame is None: break\\n\\n    particles,terminate=particlesDetect(particles,frame,N=N,width=W,height=H,sigma=POS_SIGMA)\\n    \\n    if terminate:break\\n'"
      ]
     },
     "execution_count": 12,
     "metadata": {},
     "output_type": "execute_result"
    }
   ],
   "source": [
    "\"\"\"\n",
    "W=1920\n",
    "H=1080\n",
    "print(W,H)\n",
    "N=10\n",
    "POS_SIGMA = 10.0\n",
    "VEL=50.0\n",
    "particles = initialize_particles(N=N,width=W,height=H,velocity=VEL)\n",
    "\n",
    "TARGET_COLOUR_WHITE = np.array((200,200,200))\n",
    "for frame in get_frames(VFILENAME):\n",
    "    #print(frame.shape)\n",
    "    #print(frame[1080-1,1920-1,: ])\n",
    "    if frame is None: break\n",
    "\n",
    "    particles,terminate=particlesDetect(particles,frame,N=N,width=W,height=H,sigma=POS_SIGMA)\n",
    "    \n",
    "    if terminate:break\n",
    "\"\"\""
   ]
  }
 ],
 "metadata": {
  "kernelspec": {
   "display_name": "Python 3 (ipykernel)",
   "language": "python",
   "name": "python3"
  },
  "language_info": {
   "codemirror_mode": {
    "name": "ipython",
    "version": 3
   },
   "file_extension": ".py",
   "mimetype": "text/x-python",
   "name": "python",
   "nbconvert_exporter": "python",
   "pygments_lexer": "ipython3",
   "version": "3.11.3"
  }
 },
 "nbformat": 4,
 "nbformat_minor": 4
}
