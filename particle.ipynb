{
 "cells": [
  {
   "cell_type": "code",
   "execution_count": 1,
   "id": "7efa6663",
   "metadata": {},
   "outputs": [
    {
     "name": "stderr",
     "output_type": "stream",
     "text": [
      "c:\\Users\\lc100\\AppData\\Local\\miniconda3\\envs\\frameSubtraction\\Lib\\site-packages\\numpy\\_distributor_init.py:30: UserWarning: loaded more than 1 DLL from .libs:\n",
      "c:\\Users\\lc100\\AppData\\Local\\miniconda3\\envs\\frameSubtraction\\Lib\\site-packages\\numpy\\.libs\\libopenblas.FB5AE2TYXYH2IJRDKGDGQ3XBKLKTF43H.gfortran-win_amd64.dll\n",
      "c:\\Users\\lc100\\AppData\\Local\\miniconda3\\envs\\frameSubtraction\\Lib\\site-packages\\numpy\\.libs\\libopenblas64__v0.3.21-gcc_10_3_0.dll\n",
      "  warnings.warn(\"loaded more than 1 DLL from .libs:\"\n"
     ]
    }
   ],
   "source": [
    "import matplotlib.pyplot as plt\n",
    "import cv2\n",
    "import numpy as np\n",
    "import math \n",
    "from numpy.random import uniform,randn\n",
    "import numpy as np"
   ]
  },
  {
   "cell_type": "code",
   "execution_count": 2,
   "id": "0f09a741",
   "metadata": {},
   "outputs": [],
   "source": [
    "def create_uniform_particles(x_range, y_range, t_range, hdg_range, N):\n",
    "    particles = np.empty((N, 4))\n",
    "    particles[:, 0] = uniform(x_range[0], x_range[1], size=N)\n",
    "    particles[:, 1] = uniform(y_range[0], y_range[1], size=N)\n",
    "    particles[:, 2] = uniform(t_range[0], t_range[1], size=N)\n",
    "    particles[:, 3] = uniform(hdg_range[0], hdg_range[1], size=N)\n",
    "    particles[:, 3] %= 2 * np.pi\n",
    "    return particles\n",
    "\n",
    "def create_gaussian_particles(mean, std, N):\n",
    "    particles = np.empty((N, 3))\n",
    "    particles[:, 0] = mean[0] + (randn(N) * std[0])\n",
    "    particles[:, 1] = mean[1] + (randn(N) * std[1])\n",
    "    particles[:, 2] = mean[2] + (randn(N) * std[2])\n",
    "    particles[:, 3] = mean[3] + (randn(N) * std[3])\n",
    "    particles[:, 3] %= 2 * np.pi\n",
    "    return particles\n",
    "\n",
    "def update(likelihood, prior):\n",
    "    posterior = prior * likelihood\n",
    "    return normalize(posterior)\n",
    "\n",
    "def update(particles, weights, z, R, landmarks):\n",
    "    for i, landmark in enumerate(landmarks):\n",
    "        distance = np.linalg.norm(particles[:, 0:2] - landmark, axis=1)\n",
    "        weights *= scipy.stats.norm(distance, R).pdf(z[i])\n",
    "\n",
    "    weights += 1.e-300      # avoid round-off to zero\n",
    "    weights /= sum(weights) # normalize\n",
    "    \n",
    "def predict(particles, u, std, dt=1.):\n",
    "    \"\"\" move according to control input u (heading change, velocity)\n",
    "    with noise Q (std heading change, std velocity)`\"\"\"\n",
    "\n",
    "    N = len(particles)\n",
    "    # update heading\n",
    "    particles[:, 2] += u[0] + (randn(N) * std[0])\n",
    "    particles[:, 2] %= 2 * np.pi\n",
    "\n",
    "    # move in the (noisy) commanded direction\n",
    "    dist = (u[1] * dt) + (randn(N) * std[1])\n",
    "    particles[:, 0] += np.cos(particles[:, 2]) * dist\n",
    "    particles[:, 1] += np.sin(particles[:, 2]) * dist\n",
    "    particles[:, 2] += np.sin(particles[:, 2]) * dist\n",
    "    \n",
    "def estimate(particles, weights):\n",
    "    \"\"\"returns mean and variance of the weighted particles\"\"\"\n",
    "\n",
    "    pos = particles[:, 0:2]\n",
    "    mean = np.average(pos, weights=weights, axis=0)\n",
    "    var  = np.average((pos - mean)**2, weights=weights, axis=0)\n",
    "    return mean, var\n",
    "\n",
    "def simple_resample(particles, weights):\n",
    "    N = len(particles)\n",
    "    cumulative_sum = np.cumsum(weights)\n",
    "    cumulative_sum[-1] = 1. # avoid round-off error\n",
    "    indexes = np.searchsorted(cumulative_sum, random(N))\n",
    "\n",
    "    # resample according to indexes\n",
    "    particles[:] = particles[indexes]\n",
    "    weights.fill(1.0 / N)\n",
    "\n",
    "def neff(weights):\n",
    "    return 1. / np.sum(np.square(weights))\n",
    "\n",
    "\n",
    "\n"
   ]
  },
  {
   "cell_type": "code",
   "execution_count": 3,
   "id": "43c467a3",
   "metadata": {},
   "outputs": [
    {
     "name": "stdout",
     "output_type": "stream",
     "text": [
      "(100, 4)\n"
     ]
    },
    {
     "data": {
      "text/plain": [
       "<mpl_toolkits.mplot3d.art3d.Path3DCollection at 0x13634f32bd0>"
      ]
     },
     "execution_count": 3,
     "metadata": {},
     "output_type": "execute_result"
    }
   ],
   "source": [
    "\n",
    "%matplotlib qt\n",
    "\n",
    "position=np.load(\"aaa_position.npy\")\n",
    "position=position[:100]\n",
    "print(position.shape)\n",
    "\n",
    "fig = plt.figure(figsize = (8,8))\n",
    "ax = fig.add_subplot(111, projection='3d')\n",
    "ax.grid()\n",
    "\n",
    "ax.scatter(position[:,1],position[:,0],position[:,2],marker=\"+\")\n",
    "\n"
   ]
  },
  {
   "cell_type": "code",
   "execution_count": 4,
   "id": "d49c9832",
   "metadata": {},
   "outputs": [
    {
     "name": "stdout",
     "output_type": "stream",
     "text": [
      "[144 852 100]\n"
     ]
    },
    {
     "ename": "NameError",
     "evalue": "name 'zs' is not defined",
     "output_type": "error",
     "traceback": [
      "\u001b[1;31m---------------------------------------------------------------------------\u001b[0m",
      "\u001b[1;31mNameError\u001b[0m                                 Traceback (most recent call last)",
      "Cell \u001b[1;32mIn[4], line 12\u001b[0m\n\u001b[0;32m      8\u001b[0m predict(particles, u\u001b[39m=\u001b[39m(\u001b[39m0.00\u001b[39m, \u001b[39m1.414\u001b[39m), std\u001b[39m=\u001b[39m(\u001b[39m.2\u001b[39m, \u001b[39m.05\u001b[39m))\n\u001b[0;32m     10\u001b[0m \u001b[39mprint\u001b[39m(pts[:\u001b[39m3\u001b[39m])\n\u001b[1;32m---> 12\u001b[0m update(particles, weights, z\u001b[39m=\u001b[39mzs, R\u001b[39m=\u001b[39msensor_std_err, landmarks\u001b[39m=\u001b[39mpts[:\u001b[39m3\u001b[39m])\n\u001b[0;32m     14\u001b[0m \u001b[39mif\u001b[39;00m neff(weights) \u001b[39m<\u001b[39m N\u001b[39m/\u001b[39m\u001b[39m2\u001b[39m:\n\u001b[0;32m     15\u001b[0m     indexes \u001b[39m=\u001b[39m systematic_resample(weights)\n",
      "\u001b[1;31mNameError\u001b[0m: name 'zs' is not defined"
     ]
    }
   ],
   "source": [
    "N=200\n",
    "range=[0,1000]\n",
    "\n",
    "particles = create_uniform_particles(range, range,(0,50), (0, 6.28), N)\n",
    "weights = np.ones(N) / N\n",
    "\n",
    "\n",
    " NB_PTS = len(position)\n",
    "\n",
    "for pts in position:\n",
    "    predict(particles, u=(0.00, 1.414), std=(.2, .05))\n",
    "    \n",
    "    print(pts[:3])\n",
    "    \n",
    "    # distance from robot to each pts\n",
    "    zs = (norm(pts - pts, axis=1) + (randn(NB_PTS) * sensor_std_err))\n",
    "    update(particles, weights, z=zs, R=sensor_std_err, landmarks=pts[:3])\n",
    "\n",
    "    if neff(weights) < N/2:\n",
    "        indexes = systematic_resample(weights)\n",
    "        resample_from_index(particles, weights, indexes)\n"
   ]
  },
  {
   "cell_type": "code",
   "execution_count": null,
   "id": "05be9382",
   "metadata": {},
   "outputs": [],
   "source": []
  }
 ],
 "metadata": {
  "kernelspec": {
   "display_name": "Python 3 (ipykernel)",
   "language": "python",
   "name": "python3"
  },
  "language_info": {
   "codemirror_mode": {
    "name": "ipython",
    "version": 3
   },
   "file_extension": ".py",
   "mimetype": "text/x-python",
   "name": "python",
   "nbconvert_exporter": "python",
   "pygments_lexer": "ipython3",
   "version": "3.11.3"
  }
 },
 "nbformat": 4,
 "nbformat_minor": 5
}
