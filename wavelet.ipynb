{
 "cells": [
  {
   "cell_type": "code",
   "execution_count": 11,
   "id": "7efa6663",
   "metadata": {},
   "outputs": [],
   "source": [
    "import matplotlib.pyplot as plt\n",
    "import cv2\n",
    "import numpy as np\n",
    "import math "
   ]
  },
  {
   "cell_type": "code",
   "execution_count": 12,
   "id": "ba471dd3",
   "metadata": {},
   "outputs": [],
   "source": [
    "def middle(box):\n",
    "    return [box[0]+(box[2]//2),box[1]+(box[3]//2)]\n",
    "\n",
    "def decomp_row(row,size):\n",
    "    row=row/math.sqrt(2)\n",
    "    while size>1:\n",
    "        size=size//2\n",
    "        for i in range(size):\n",
    "            A=row[2*i]\n",
    "            B=row[2*i+1]\n",
    "            row[i],row[size+i]=(A+B)/math.sqrt(2),(A-B)/math.sqrt(2)\n",
    "    return row\n",
    "                       \n",
    "def decomp_2D(img,size):\n",
    "    for i in range(size):\n",
    "        img[i,:]=decomp_row(img[i,:],i)\n",
    "    return img\n",
    "        \n",
    "def decomp_RGB(img,size):\n",
    "    for i in range(3):\n",
    "        img[:,:,i]=np.transpose(decomp_2D(img[:,:,i],size))\n",
    "        img[:,:,i]=np.transpose(decomp_2D(img[:,:,i],size))\n",
    "    return img\n",
    "\n",
    "def Wavelet(img):\n",
    "    img= cv2.cvtColor(img,cv2.COLOR_BGR2YUV)\n",
    "    \n",
    "    n=min(img.shape[0],img.shape[1])\n",
    "    \n",
    "    size = 1\n",
    "    while size < n: size *=2\n",
    "    size//=2\n",
    "    \n",
    "    middle_x=img.shape[0]//2\n",
    "    middle_y=img.shape[1]//2\n",
    "    \n",
    "    resized=img[middle_x-(size//2):middle_x+(size//2),middle_y-(size//2):middle_y+(size//2),:]\n",
    "    \n",
    "    res=decomp_RGB(resized,size)\n",
    "    \n",
    "    return res\n"
   ]
  },
  {
   "cell_type": "code",
   "execution_count": 13,
   "id": "10ac7a4a",
   "metadata": {},
   "outputs": [
    {
     "name": "stdout",
     "output_type": "stream",
     "text": [
      "(32, 32, 3)\n",
      "(32, 32, 3)\n"
     ]
    },
    {
     "data": {
      "image/png": "[encoded data removed]",
      "text/plain": [
       "<Figure size 1000x700 with 2 Axes>"
      ]
     },
     "metadata": {},
     "output_type": "display_data"
    },
    {
     "name": "stdout",
     "output_type": "stream",
     "text": [
      "[[0.32941176 0.29542484 0.04705882]\n",
      " [0.32941176 0.29542484 0.04575163]]\n"
     ]
    }
   ],
   "source": [
    "\n",
    "fig = plt.figure(figsize=(10, 7))\n",
    "\n",
    "template_test = cv2.imread('template/templateRGB_Black.png')\n",
    "waveletT=Wavelet(template_test)\n",
    "print(waveletT.shape)\n",
    "fig.add_subplot(1,2,1)\n",
    "plt.imshow(waveletT)\n",
    "\n",
    "template_test = cv2.imread('template/templateGoal.png')\n",
    "wavelet=Wavelet(template_test)\n",
    "print(wavelet.shape)\n",
    "fig.add_subplot(1,2,2)\n",
    "plt.imshow(wavelet)\n",
    "\n",
    "plt.show()\n",
    "\n",
    "print(sum(waveletT[0:2,0:2,:]-wavelet[0:2,0:2,:])/(3*255))"
   ]
  }
 ],
 "metadata": {
  "kernelspec": {
   "display_name": "Python 3 (ipykernel)",
   "language": "python",
   "name": "python3"
  },
  "language_info": {
   "codemirror_mode": {
    "name": "ipython",
    "version": 3
   },
   "file_extension": ".py",
   "mimetype": "text/x-python",
   "name": "python",
   "nbconvert_exporter": "python",
   "pygments_lexer": "ipython3",
   "version": "3.11.3"
  }
 },
 "nbformat": 4,
 "nbformat_minor": 5
}
