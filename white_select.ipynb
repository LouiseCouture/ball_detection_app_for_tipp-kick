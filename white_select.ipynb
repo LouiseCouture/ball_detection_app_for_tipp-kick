{
 "cells": [
  {
   "cell_type": "code",
   "execution_count": 1,
   "id": "7efa6663",
   "metadata": {},
   "outputs": [],
   "source": [
    "\n",
    "import numpy as np\n",
    "import cv2\n",
    "from ipynb.fs.full.fonctions import resize"
   ]
  },
  {
   "cell_type": "code",
   "execution_count": 2,
   "id": "b3b6f673",
   "metadata": {},
   "outputs": [],
   "source": [
    "def selectWhite(frame,show=False):\n",
    "\n",
    "    frameHSV= cv2.cvtColor(frame,cv2.COLOR_BGR2HLS)\n",
    "    blurred = cv2.GaussianBlur(frameHSV, (11, 11), 0)\n",
    "\n",
    "    lower_white = np.array([10,170,0])\n",
    "    upper_white = np.array([255,255,255])\n",
    "    \n",
    "    lower_black = np.array([10,0,0])\n",
    "    upper_black = np.array([255,50,255])\n",
    "\n",
    "    maskW = cv2.inRange(blurred, lower_white, upper_white)\n",
    "    maskB = cv2.inRange(blurred, lower_black, upper_black)\n",
    "\n",
    "    mask = cv2.bitwise_or(maskW,maskB)\n",
    "    mask = cv2.erode(mask, None, iterations=1)\n",
    "    mask = cv2.dilate(mask, None, iterations=4)\n",
    "\n",
    "    if show:\n",
    "        resize(mask,'select white')\n",
    "\n",
    "    return mask\n",
    "\n",
    "def selectWhiteHSV(frame,show=False):\n",
    "\n",
    "    frameHSV= cv2.cvtColor(frame,cv2.COLOR_BGR2HLS)\n",
    "    blurred = cv2.GaussianBlur(frameHSV, (11, 11), 0)\n",
    "\n",
    "    frameHSV= cv2.cvtColor(frame,cv2.COLOR_BGR2HSV)\n",
    "    blurred = cv2.GaussianBlur(frameHSV, (11, 11), 0)\n",
    "\n",
    "    lower_white = np.array([80,0,160])\n",
    "    upper_white = np.array([140,70,255])\n",
    "    \n",
    "    lower_black = np.array([80,0,0])\n",
    "    upper_black = np.array([140,70,160])\n",
    "\n",
    "    maskW = cv2.inRange(blurred, lower_white, upper_white)\n",
    "    maskB = cv2.inRange(blurred, lower_black, upper_black)\n",
    "\n",
    "    mask = cv2.bitwise_or(maskW,maskB)\n",
    "    mask = cv2.erode(mask, None, iterations=1)\n",
    "    mask = cv2.dilate(mask, None, iterations=4)\n",
    "\n",
    "    if show:\n",
    "        resize(mask,name='select white')\n",
    "\n",
    "    return mask"
   ]
  }
 ],
 "metadata": {
  "kernelspec": {
   "display_name": "Python 3 (ipykernel)",
   "language": "python",
   "name": "python3"
  },
  "language_info": {
   "codemirror_mode": {
    "name": "ipython",
    "version": 3
   },
   "file_extension": ".py",
   "mimetype": "text/x-python",
   "name": "python",
   "nbconvert_exporter": "python",
   "pygments_lexer": "ipython3",
   "version": "3.11.3"
  }
 },
 "nbformat": 4,
 "nbformat_minor": 5
}
